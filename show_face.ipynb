{
 "cells": [
  {
   "cell_type": "code",
   "execution_count": 18,
   "metadata": {},
   "outputs": [],
   "source": [
    "import numpy as np\n",
    "from mmengine.structures import InstanceData\n",
    "from mmpose.structures import PoseDataSample\n",
    "from mmpose.visualization import PoseLocalVisualizer\n",
    "from PIL import Image"
   ]
  },
  {
   "cell_type": "code",
   "execution_count": 19,
   "metadata": {},
   "outputs": [
    {
     "name": "stdout",
     "output_type": "stream",
     "text": [
      "{'img_path': 'E:\\\\mmpose\\\\data\\\\300vw\\\\images\\\\001\\\\000040.jpg', 'keypoints': [758.892, 197.093, 759.165, 214.967, 761.726, 232.459, 766.015, 249.821, 772.551, 265.568, 782.446, 279.961, 794.453, 292.07, 807.801, 302.202, 822.623, 306.365, 838.665, 304.6, 854.471, 295.724, 868.569, 283.871, 879.999, 269.291, 887.411, 252.227, 891.952, 234.07, 895.035, 215.161, 896.093, 195.974, 768.14, 176.124, 776.279, 170.349, 786.665, 169.484, 797.311, 172.217, 807.043, 177.421, 831.563, 178.087, 843.056, 173.857, 855.159, 172.125, 866.972, 174.701, 876.198, 181.401, 819.355, 196.024, 819.142, 208.149, 818.749, 220.104, 818.496, 232.254, 807.975, 241.414, 813.359, 243.661, 819.153, 245.223, 825.147, 244.12, 831.01, 242.79, 780.518, 195.465, 787.46, 191.453, 796.565, 192.083, 804.264, 198.614, 795.839, 200.596, 786.739, 200.232, 837.573, 200.178, 845.142, 194.213, 854.575, 194.579, 862.343, 199.109, 855.189, 203.12, 845.819, 202.973, 799.549, 266.586, 806.272, 260.192, 814.042, 256.692, 819.402, 258.605, 824.964, 257.375, 834.051, 261.666, 842.446, 268.124, 834.246, 276.705, 825.612, 280.219, 819.505, 280.478, 813.486, 279.272, 806.123, 274.748, 803.695, 266.834, 814.082, 264.81, 819.458, 265.438, 825.016, 265.475, 837.918, 268.092, 824.971, 268.739, 819.377, 268.845, 813.95, 267.879], 'bbox': [753.892, 311.365, 147.2009999999999, 146.881], 'sample_idx': 0}\n"
     ]
    }
   ],
   "source": [
    "from mmengine.dataset import BaseDataset\n",
    "import cv2\n",
    "\n",
    "class dataset300v(BaseDataset):\n",
    "    # 感觉就是将标签文件中的data_list进行处理后再送给某个对象（但我这里没做任何处理）\n",
    "    def parse_data_info(self, raw_data_info):\n",
    "        return raw_data_info\n",
    "\n",
    "class LoadImage:\n",
    "    def __call__(self, results):\n",
    "        results['img'] = cv2.imread(results['img_path'])\n",
    "        return results\n",
    "\n",
    "class ParseImage:\n",
    "    def __call__(self, results):\n",
    "        results['img_shape'] = results['img'].shape\n",
    "        return results\n",
    "\n",
    "pipeline = [\n",
    "    LoadImage(),\n",
    "    ParseImage(),\n",
    "]\n",
    "dataset = dataset300v(\n",
    "    ann_file='E:\\\\mmpose\\\\data\\\\300vw\\\\annotations\\\\train.json',\n",
    "    pipeline=pipeline\n",
    ")\n",
    "print(dataset.get_data_info(0))"
   ]
  },
  {
   "cell_type": "code",
   "execution_count": 20,
   "metadata": {},
   "outputs": [
    {
     "name": "stdout",
     "output_type": "stream",
     "text": [
      "[[727.809, 190.622], [726.851, 207.834], [727.886, 225.185], [730.824, 242.31], [736.133, 258.707], [745.31, 273.516], [757.382, 285.661], [771.0, 295.104], [786.528, 298.963], [803.287, 298.28], [820.299, 292.651], [835.5, 284.333], [847.558, 272.277], [855.689, 256.945], [861.119, 239.878], [865.258, 221.967], [868.033, 203.576], [737.08, 170.426], [744.747, 164.545], [754.731, 163.208], [765.006, 165.528], [774.572, 170.176], [800.37, 171.892], [812.763, 168.971], [825.469, 168.597], [837.53, 172.651], [846.962, 179.961], [786.077, 188.028], [784.649, 198.089], [783.057, 208.051], [781.484, 218.288], [771.829, 230.039], [776.69, 231.791], [781.95, 233.136], [787.9, 232.782], [794.077, 232.314], [747.713, 189.047], [754.601, 184.644], [763.581, 185.357], [771.085, 191.701], [762.755, 193.421], [753.766, 192.909], [805.804, 194.866], [814.228, 189.444], [823.818, 190.612], [831.668, 195.959], [823.818, 198.623], [814.256, 197.783], [762.705, 256.094], [769.212, 248.415], [776.974, 244.542], [782.0, 246.482], [787.486, 245.494], [797.286, 250.928], [807.095, 259.442], [797.076, 265.511], [787.602, 267.113], [781.746, 266.91], [776.138, 265.774], [769.046, 262.353], [766.91, 255.923], [776.756, 252.873], [781.826, 253.48], [787.242, 253.755], [802.338, 258.621], [787.509, 256.498], [782.101, 256.134], [776.989, 255.237]]\n",
      "[721.851, 303.963, 873.033, 158.208]\n"
     ]
    }
   ],
   "source": [
    "# 取出标注文件中的关键点\n",
    "sample1 = dataset.get_data_info(20)\n",
    "sample1_keypoints = sample1['keypoints']\n",
    "sample1_keypoints = [[sample1_keypoints[i],sample1_keypoints[i + 1]] for i in range(0, 68*2, 2)]\n",
    "print(sample1_keypoints)\n",
    "\n",
    "# 取出标注文件中的bbox\n",
    "sample1_bbox = sample1['bbox']\n",
    "# 将xywh->xyxy\n",
    "sample1_bbox[2] = sample1_bbox[0] + sample1_bbox[2]\n",
    "sample1_bbox[3] = sample1_bbox[1] - sample1_bbox[3]\n",
    "print(sample1_bbox)"
   ]
  },
  {
   "cell_type": "code",
   "execution_count": 21,
   "metadata": {},
   "outputs": [],
   "source": [
    "# # 计算左上、右下坐标\n",
    "# sample1_keypoints_x = [i[0] for i in sample1_keypoints]\n",
    "# sample1_keypoints_y = [i[1] for i in sample1_keypoints]\n",
    "# x_left = min(sample1_keypoints_x)\n",
    "# x_right = max(sample1_keypoints_x)\n",
    "# y_low = min(sample1_keypoints_y)\n",
    "# y_high = max(sample1_keypoints_y)\n",
    "\n",
    "# print(x_left,y_high, x_right, y_low)\n"
   ]
  },
  {
   "cell_type": "code",
   "execution_count": 22,
   "metadata": {},
   "outputs": [
    {
     "data": {
      "text/plain": [
       "array([[[116, 103, 123],\n",
       "        [116, 103, 121],\n",
       "        [116, 103, 121],\n",
       "        ...,\n",
       "        [  1,   1,   9],\n",
       "        [  1,   1,   9],\n",
       "        [  1,   1,   9]],\n",
       "\n",
       "       [[116, 103, 123],\n",
       "        [116, 103, 123],\n",
       "        [116, 103, 123],\n",
       "        ...,\n",
       "        [  1,   1,   9],\n",
       "        [  1,   1,   9],\n",
       "        [  1,   1,   9]],\n",
       "\n",
       "       [[116, 103, 123],\n",
       "        [116, 103, 123],\n",
       "        [116, 103, 123],\n",
       "        ...,\n",
       "        [  1,   1,   9],\n",
       "        [  1,   1,   9],\n",
       "        [  1,   1,   9]],\n",
       "\n",
       "       ...,\n",
       "\n",
       "       [[255, 255, 255],\n",
       "        [255, 255, 255],\n",
       "        [255, 255, 255],\n",
       "        ...,\n",
       "        [255, 255, 255],\n",
       "        [255, 255, 255],\n",
       "        [255, 255, 255]],\n",
       "\n",
       "       [[255, 255, 255],\n",
       "        [255, 255, 255],\n",
       "        [255, 255, 255],\n",
       "        ...,\n",
       "        [255, 255, 255],\n",
       "        [255, 255, 255],\n",
       "        [255, 255, 255]],\n",
       "\n",
       "       [[255, 255, 255],\n",
       "        [255, 255, 255],\n",
       "        [255, 255, 255],\n",
       "        ...,\n",
       "        [255, 255, 255],\n",
       "        [255, 255, 255],\n",
       "        [255, 255, 255]]], dtype=uint8)"
      ]
     },
     "execution_count": 22,
     "metadata": {},
     "output_type": "execute_result"
    }
   ],
   "source": [
    "pose_local_visualizer = PoseLocalVisualizer(radius=1, link_color = 'red')\n",
    "\n",
    "\n",
    "image = Image.open(sample1['img_path'])  # 打开图像文件\n",
    "image = np.array(image) # 将图像转换为 NumPy 数组\n",
    "\n",
    "\n",
    "# PoseDataSample存的是所有目标关键点信息\n",
    "gt_pose_data_sample = PoseDataSample() \n",
    "\n",
    "# # 将构造的真实关键点存入PoseDataSample中\n",
    "gt_instances = InstanceData() # InstanceData对象中存的是一个目标关键点信息\n",
    "gt_instances.keypoints = np.array([sample1_keypoints])\n",
    "gt_instances.bboxes = np.array([sample1_bbox])\n",
    "\n",
    "# gt_instances.bboxes = np.array([[30,30, 300, 300]]) \n",
    "gt_pose_data_sample.gt_instances = gt_instances \n",
    "\n",
    "# 构造一个目标的预测关键点标签存入InstanceData\n",
    "pred_instances = InstanceData()\n",
    "pred_instances.keypoints = np.array([[[150, 150], [250, 250], [450, 450], \n",
    "                                      [85, 85]]])\n",
    "pred_instances.score = np.array([[1,1,1,1]]) # 构造每个关键点标签权重\n",
    "# 将该目标预测关键点存入PoseDataSample中\n",
    "gt_pose_data_sample.pred_instances = pred_instances \n",
    "\n",
    "# 传入图片、标签、预测、配置，开始画图\n",
    "pose_local_visualizer.add_datasample('image', image,\n",
    "                        gt_pose_data_sample,\n",
    "                        out_file='out_file.jpg',\n",
    "                        show=True,\n",
    "                        draw_bbox = True )"
   ]
  }
 ],
 "metadata": {
  "kernelspec": {
   "display_name": "openmmlab",
   "language": "python",
   "name": "python3"
  },
  "language_info": {
   "codemirror_mode": {
    "name": "ipython",
    "version": 3
   },
   "file_extension": ".py",
   "mimetype": "text/x-python",
   "name": "python",
   "nbconvert_exporter": "python",
   "pygments_lexer": "ipython3",
   "version": "3.8.16"
  }
 },
 "nbformat": 4,
 "nbformat_minor": 2
}
